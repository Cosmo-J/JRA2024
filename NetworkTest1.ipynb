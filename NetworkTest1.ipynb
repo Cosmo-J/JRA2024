{
 "cells": [
  {
   "cell_type": "markdown",
   "metadata": {},
   "source": [
    "dexter notes:\n",
    "look into torch.uint8\n",
    "look into loading the data using unit8s\n",
    "\n",
    "How"
   ]
  },
  {
   "cell_type": "markdown",
   "metadata": {},
   "source": [
    "# Prerequisits\n"
   ]
  },
  {
   "cell_type": "code",
   "execution_count": 1,
   "metadata": {},
   "outputs": [],
   "source": [
    "import DataSetLoader\n",
    "from torch.utils.data import Dataset, DataLoader, WeightedRandomSampler\n",
    "from torchvision import transforms\n",
    "import pickle\n",
    "from PIL import Image"
   ]
  },
  {
   "cell_type": "markdown",
   "metadata": {},
   "source": [
    "# Getting the Data"
   ]
  },
  {
   "cell_type": "code",
   "execution_count": 4,
   "metadata": {},
   "outputs": [],
   "source": [
    "metadata_file = 'trail_cam_ims.json'\n",
    "bucket = 'us-west-2.opendata.source.coop'\n",
    "prefix = 'agentmorris/lila-wildlife/nz-trailcams/'\n",
    "sample_weight_pkl = 'trail_cam_ims_sample_weights.pkl'\n",
    "\n",
    "transform = transforms.Compose([\n",
    "    transforms.Resize((256, 256)),\n",
    "    transforms.ToTensor(),\n",
    "])\n",
    "\n",
    "dataset = DataSetLoader.S3Dataset(bucket=bucket, metadata_file=metadata_file,prefix=prefix, transform=transform)\n"
   ]
  },
  {
   "cell_type": "code",
   "execution_count": 5,
   "metadata": {},
   "outputs": [],
   "source": [
    "with open(sample_weight_pkl, 'rb') as f:\n",
    "    sample_weights = pickle.load(f)\n",
    "wSampler = WeightedRandomSampler(sample_weights,len(sample_weights),replacement=True)\n",
    "data_loader = DataLoader(dataset, batch_size=10, sampler=wSampler)"
   ]
  },
  {
   "cell_type": "markdown",
   "metadata": {},
   "source": [
    "# Training a Network"
   ]
  },
  {
   "cell_type": "markdown",
   "metadata": {},
   "source": [
    "This first network will be trained using the methods outlined in mirzadehImprovedKnowledgeDistillation2020.\n",
    "\n"
   ]
  }
 ],
 "metadata": {
  "kernelspec": {
   "display_name": "JRA",
   "language": "python",
   "name": "python3"
  },
  "language_info": {
   "codemirror_mode": {
    "name": "ipython",
    "version": 3
   },
   "file_extension": ".py",
   "mimetype": "text/x-python",
   "name": "python",
   "nbconvert_exporter": "python",
   "pygments_lexer": "ipython3",
   "version": "3.12.3"
  }
 },
 "nbformat": 4,
 "nbformat_minor": 2
}
